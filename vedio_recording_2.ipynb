{
 "cells": [
  {
   "cell_type": "code",
   "execution_count": 1,
   "id": "2546eea4-e755-4c63-abe2-1cdcc1812f5f",
   "metadata": {},
   "outputs": [],
   "source": [
    "import pandas as pd\n",
    "import numpy as np\n",
    "import matplotlib.pyplot as plt\n",
    "import seaborn as sns"
   ]
  },
  {
   "cell_type": "code",
   "execution_count": 2,
   "id": "286fcfd4",
   "metadata": {},
   "outputs": [],
   "source": [
    "df = pd.DataFrame(np.random.randn(10,4),columns=list(\"ABCD\"))"
   ]
  },
  {
   "cell_type": "code",
   "execution_count": 14,
   "id": "68efb937",
   "metadata": {},
   "outputs": [],
   "source": [
    "student_data = {\n",
    "    'name' :['Ram','Shyam','Hari','Gita','Sita'],\n",
    "    'gender' : ['M','M','M','F','F'],\n",
    "    'math' : [70,85,67,95,88],\n",
    "    'english' : [85,76,98,99,90]\n",
    "}"
   ]
  },
  {
   "cell_type": "code",
   "execution_count": 18,
   "id": "348b094b",
   "metadata": {},
   "outputs": [],
   "source": [
    "df1 = pd.DataFrame(student_data)\n",
    "df1['total_marks'] = df1['math']+df1['english']"
   ]
  },
  {
   "cell_type": "code",
   "execution_count": 24,
   "id": "b568d093",
   "metadata": {},
   "outputs": [],
   "source": [
    "df1['average_marks'] = df1['total_marks'].apply(lambda x: x/2)"
   ]
  },
  {
   "cell_type": "code",
   "execution_count": 25,
   "id": "f823fd61",
   "metadata": {},
   "outputs": [
    {
     "data": {
      "text/html": [
       "<div>\n",
       "<style scoped>\n",
       "    .dataframe tbody tr th:only-of-type {\n",
       "        vertical-align: middle;\n",
       "    }\n",
       "\n",
       "    .dataframe tbody tr th {\n",
       "        vertical-align: top;\n",
       "    }\n",
       "\n",
       "    .dataframe thead th {\n",
       "        text-align: right;\n",
       "    }\n",
       "</style>\n",
       "<table border=\"1\" class=\"dataframe\">\n",
       "  <thead>\n",
       "    <tr style=\"text-align: right;\">\n",
       "      <th></th>\n",
       "      <th>name</th>\n",
       "      <th>gender</th>\n",
       "      <th>math</th>\n",
       "      <th>english</th>\n",
       "      <th>total_marks</th>\n",
       "      <th>average_marks</th>\n",
       "    </tr>\n",
       "  </thead>\n",
       "  <tbody>\n",
       "    <tr>\n",
       "      <th>0</th>\n",
       "      <td>Ram</td>\n",
       "      <td>M</td>\n",
       "      <td>70</td>\n",
       "      <td>85</td>\n",
       "      <td>155</td>\n",
       "      <td>77.5</td>\n",
       "    </tr>\n",
       "    <tr>\n",
       "      <th>1</th>\n",
       "      <td>Shyam</td>\n",
       "      <td>M</td>\n",
       "      <td>85</td>\n",
       "      <td>76</td>\n",
       "      <td>161</td>\n",
       "      <td>80.5</td>\n",
       "    </tr>\n",
       "    <tr>\n",
       "      <th>2</th>\n",
       "      <td>Hari</td>\n",
       "      <td>M</td>\n",
       "      <td>67</td>\n",
       "      <td>98</td>\n",
       "      <td>165</td>\n",
       "      <td>82.5</td>\n",
       "    </tr>\n",
       "    <tr>\n",
       "      <th>3</th>\n",
       "      <td>Gita</td>\n",
       "      <td>F</td>\n",
       "      <td>95</td>\n",
       "      <td>99</td>\n",
       "      <td>194</td>\n",
       "      <td>97.0</td>\n",
       "    </tr>\n",
       "    <tr>\n",
       "      <th>4</th>\n",
       "      <td>Sita</td>\n",
       "      <td>F</td>\n",
       "      <td>88</td>\n",
       "      <td>90</td>\n",
       "      <td>178</td>\n",
       "      <td>89.0</td>\n",
       "    </tr>\n",
       "  </tbody>\n",
       "</table>\n",
       "</div>"
      ],
      "text/plain": [
       "    name gender  math  english  total_marks  average_marks\n",
       "0    Ram      M    70       85          155           77.5\n",
       "1  Shyam      M    85       76          161           80.5\n",
       "2   Hari      M    67       98          165           82.5\n",
       "3   Gita      F    95       99          194           97.0\n",
       "4   Sita      F    88       90          178           89.0"
      ]
     },
     "execution_count": 25,
     "metadata": {},
     "output_type": "execute_result"
    }
   ],
   "source": [
    "df1"
   ]
  },
  {
   "cell_type": "code",
   "execution_count": 1,
   "id": "f1ae2af9",
   "metadata": {},
   "outputs": [
    {
     "name": "stdout",
     "output_type": "stream",
     "text": [
      "\u001b[31mUntitled.ipynb\u001b[m\u001b[m          \u001b[31mvedio_recording_2.ipynb\u001b[m\u001b[m\n"
     ]
    }
   ],
   "source": [
    "!ls"
   ]
  },
  {
   "cell_type": "code",
   "execution_count": 4,
   "id": "4b01a50a-9084-4a51-b4ca-4e215186c6a4",
   "metadata": {},
   "outputs": [
    {
     "name": "stdout",
     "output_type": "stream",
     "text": [
      "fatal: destination path 'git_learning' already exists and is not an empty directory.\n"
     ]
    }
   ],
   "source": [
    "!git clone https://github.com/rimalumesh/git_learning.git"
   ]
  },
  {
   "cell_type": "code",
   "execution_count": null,
   "id": "0d572958-c847-474d-83d9-160e234f43d8",
   "metadata": {},
   "outputs": [],
   "source": []
  },
  {
   "cell_type": "code",
   "execution_count": null,
   "id": "4f0c60e1-a2f4-49c8-af9d-a1c1cdc3d101",
   "metadata": {},
   "outputs": [],
   "source": [
    "# hello how are you are you good"
   ]
  }
 ],
 "metadata": {
  "kernelspec": {
   "display_name": "Python 3 (ipykernel)",
   "language": "python",
   "name": "python3"
  },
  "language_info": {
   "codemirror_mode": {
    "name": "ipython",
    "version": 3
   },
   "file_extension": ".py",
   "mimetype": "text/x-python",
   "name": "python",
   "nbconvert_exporter": "python",
   "pygments_lexer": "ipython3",
   "version": "3.9.6"
  }
 },
 "nbformat": 4,
 "nbformat_minor": 5
}
